{
  "nbformat": 4,
  "nbformat_minor": 0,
  "metadata": {
    "colab": {
      "name": "Copy of time-series-covid-19.ipynb",
      "provenance": [],
      "collapsed_sections": []
    },
    "kernelspec": {
      "name": "python3",
      "display_name": "Python 3"
    },
    "accelerator": "GPU"
  },
  "cells": [
    {
      "cell_type": "markdown",
      "metadata": {
        "id": "0LdAvhCnCMDL",
        "colab_type": "text"
      },
      "source": [
        "# Time Series Forecasting with LSTMs for Daily Coronavirus Cases using PyTorch in Python "
      ]
    },
    {
      "cell_type": "markdown",
      "metadata": {
        "id": "BLY2uZgOTWoK",
        "colab_type": "text"
      },
      "source": [
        ""
      ]
    },
    {
      "cell_type": "markdown",
      "metadata": {
        "colab_type": "text",
        "id": "nt8aKv3QTZFv"
      },
      "source": [
        ""
      ]
    },
    {
      "cell_type": "markdown",
      "metadata": {
        "id": "A59PQFTSCQUg",
        "colab_type": "text"
      },
      "source": [
        "> This tutorial is NOT trying to build a model that predicts the Covid-19 outbreak/pandemic in the best way possible. This is an example of how you can use Recurrent Neural Networks on some real-world Time Series data with PyTorch. Hopefully, there are much better models that predict the number of daily confirmed cases.\n",
        "\n",
        "Time series data captures a series of data points recorded at (usually) regular intervals. Some common examples include daily weather temperature, stock prices, and the number of sales a company makes.\n",
        "\n",
        "Many classical methods (e.g. ARIMA) try to deal with Time Series data with varying success (not to say they are bad at it). In the last couple of years, [Long Short Term Memory Networks (LSTM)](https://en.wikipedia.org/wiki/Long_short-term_memory) models have become a very useful method when dealing with those types of data.\n",
        "\n",
        "Recurrent Neural Networks (LSTMs are one type of those) are very good at processing sequences of data. They can \"recall\" patterns in the data that are very far into the past (or future). In this tutorial, you're going to learn how to use LSTMs to predict future Coronavirus cases based on real-world data.\n",
        "\n",
        "- [Run the complete notebook in your browser (Google Colab)](https://colab.research.google.com/drive/1nQYJq1f7f4R0yeZOzQ9rBKgk00AfLoS0)\n",
        "- [Read the Getting Things Done with Pytorch book](https://github.com/curiousily/Getting-Things-Done-with-Pytorch)"
      ]
    },
    {
      "cell_type": "markdown",
      "metadata": {
        "id": "IR387vTYWH68",
        "colab_type": "text"
      },
      "source": [
        "## Novel Coronavirus (COVID-19)\n",
        "\n",
        "The novel Coronavirus (Covid-19) has spread around the world very rapidly. At the time of this writing, [Worldometers.info](https://www.worldometers.info/coronavirus/) shows that there are more than *95,488* confirmed cases in more than *84* countries.\n",
        "\n",
        "The top 4 worst-affected (by far) are China (the source of the virus), South Korea, Italy, and Iran. Unfortunately, many cases are currently not reported due to:\n",
        "\n",
        "- A person can get infected without even knowing (asymptomatic)\n",
        "- Incorrect data reporting\n",
        "- Not enough test kits\n",
        "- The symptoms look a lot like the common flu\n",
        "\n",
        "### How dangerous is this virus?\n",
        "\n",
        "Except for the common statistics you might see cited on the news, there are some good and some bad news:\n",
        "\n",
        "- More than 80% of the confirmed cases recover without any need of medical attention\n",
        "- [3.4% Mortality Rate estimate by the World Health Organization (WHO) as of March 3](https://www.worldometers.info/coronavirus/coronavirus-death-rate/#who-03-03-20)\n",
        "- The reproductive number which represents the average number of people to which a single infected person will transmit the virus is between 1.4 and 2.5 [(WHO's estimated on Jan. 23)](https://www.worldometers.info/coronavirus/#repro)\n",
        "\n",
        "The last one is really scary. It sounds like we can witness some crazy exponential growth if appropriate measures are not put in place.\n",
        "\n",
        "Let's get started!"
      ]
    },
    {
      "cell_type": "code",
      "metadata": {
        "id": "W8UyCsI_mlqP",
        "colab_type": "code",
        "colab": {}
      },
      "source": [
        "!pip install -Uq watermark"
      ],
      "execution_count": 0,
      "outputs": []
    },
    {
      "cell_type": "code",
      "metadata": {
        "id": "zI0W-_9XmjY6",
        "colab_type": "code",
        "outputId": "6aa3ec41-b388-4497-a55d-b3a4b23829bd",
        "colab": {
          "base_uri": "https://localhost:8080/",
          "height": 118
        }
      },
      "source": [
        "%reload_ext watermark\n",
        "%watermark -v -p numpy,pandas,torch"
      ],
      "execution_count": 0,
      "outputs": [
        {
          "output_type": "stream",
          "text": [
            "CPython 3.6.9\n",
            "IPython 5.5.0\n",
            "\n",
            "numpy 1.18.2\n",
            "pandas 1.0.3\n",
            "torch 1.4.0\n"
          ],
          "name": "stdout"
        }
      ]
    },
    {
      "cell_type": "code",
      "metadata": {
        "id": "tzMzcTdKygBE",
        "colab_type": "code",
        "outputId": "dbfcca93-0bcb-4967-d038-cfd63d36653a",
        "colab": {
          "base_uri": "https://localhost:8080/",
          "height": 87
        }
      },
      "source": [
        "import torch\n",
        "\n",
        "import os\n",
        "import numpy as np\n",
        "import pandas as pd\n",
        "from tqdm import tqdm\n",
        "import seaborn as sns\n",
        "from pylab import rcParams\n",
        "import matplotlib.pyplot as plt\n",
        "from matplotlib import rc\n",
        "from sklearn.preprocessing import MinMaxScaler\n",
        "from pandas.plotting import register_matplotlib_converters\n",
        "from torch import nn, optim\n",
        "\n",
        "%matplotlib inline\n",
        "%config InlineBackend.figure_format='retina'\n",
        "\n",
        "sns.set(style='whitegrid', palette='muted', font_scale=1.2)\n",
        "\n",
        "HAPPY_COLORS_PALETTE = [\"#01BEFE\", \"#FFDD00\", \"#FF7D00\", \"#FF006D\", \"#93D30C\", \"#8F00FF\"]\n",
        "\n",
        "sns.set_palette(sns.color_palette(HAPPY_COLORS_PALETTE))\n",
        "\n",
        "rcParams['figure.figsize'] = 14, 10\n",
        "register_matplotlib_converters()\n",
        "\n",
        "RANDOM_SEED = 42\n",
        "np.random.seed(RANDOM_SEED)\n",
        "torch.manual_seed(RANDOM_SEED)"
      ],
      "execution_count": 0,
      "outputs": [
        {
          "output_type": "stream",
          "text": [
            "/usr/local/lib/python3.6/dist-packages/statsmodels/tools/_testing.py:19: FutureWarning: pandas.util.testing is deprecated. Use the functions in the public API at pandas.testing instead.\n",
            "  import pandas.util.testing as tm\n"
          ],
          "name": "stderr"
        },
        {
          "output_type": "execute_result",
          "data": {
            "text/plain": [
              "<torch._C.Generator at 0x7ff94c983470>"
            ]
          },
          "metadata": {
            "tags": []
          },
          "execution_count": 4
        }
      ]
    },
    {
      "cell_type": "markdown",
      "metadata": {
        "id": "2Jmoo1E2XM4y",
        "colab_type": "text"
      },
      "source": [
        "## Daily Cases Dataset"
      ]
    },
    {
      "cell_type": "markdown",
      "metadata": {
        "id": "jz_3S--lXK9a",
        "colab_type": "text"
      },
      "source": [
        "The data is provided by the Johns Hopkins University Center for Systems Science and Engineering (JHU CSSE) and contains the number of reported daily cases by country. [The dataset is available on GitHub](https://github.com/CSSEGISandData/COVID-19) and is updated regularly.\n",
        "\n",
        "We're going to take the Time Series data only for confirmed cases (number of deaths and recovered cases are also available):"
      ]
    },
    {
      "cell_type": "code",
      "metadata": {
        "id": "qspvxWyoypeX",
        "colab_type": "code",
        "colab": {}
      },
      "source": [
        "# !wget https://raw.githubusercontent.com/CSSEGISandData/COVID-19/master/csse_covid_19_data/csse_covid_19_time_series/time_series_19-covid-Confirmed.csv"
      ],
      "execution_count": 0,
      "outputs": []
    },
    {
      "cell_type": "markdown",
      "metadata": {
        "id": "F1L-crLVYq-s",
        "colab_type": "text"
      },
      "source": [
        "Or you can take the same dataset that I've used for this tutorial (the data snapshot is from 3 March 2020):"
      ]
    },
    {
      "cell_type": "code",
      "metadata": {
        "id": "ISbbDUFl8SvH",
        "colab_type": "code",
        "outputId": "6d5e4c3c-1033-4978-e203-81a047f8d8f2",
        "colab": {
          "base_uri": "https://localhost:8080/"
        }
      },
      "source": [
        "!gdown --id 1AsfdLrGESCQnRW5rbMz56A1KBc3Fe5aV"
      ],
      "execution_count": 0,
      "outputs": [
        {
          "output_type": "stream",
          "text": [
            "Downloading...\n",
            "From: https://drive.google.com/uc?id=1AsfdLrGESCQnRW5rbMz56A1KBc3Fe5aV\n",
            "To: /content/time_series_19-covid-Confirmed.csv\n",
            "\r  0% 0.00/19.2k [00:00<?, ?B/s]\r100% 19.2k/19.2k [00:00<00:00, 31.9MB/s]\n"
          ],
          "name": "stdout"
        }
      ]
    },
    {
      "cell_type": "markdown",
      "metadata": {
        "id": "L9GCMpR58kxd",
        "colab_type": "text"
      },
      "source": [
        "## Data exploration\n",
        "\n",
        "Let's load the data and have a peek:"
      ]
    },
    {
      "cell_type": "code",
      "metadata": {
        "id": "3_15jwwrASTP",
        "colab_type": "code",
        "outputId": "73c0af7b-3e6c-4773-d498-d35bcb3ff151",
        "colab": {
          "base_uri": "https://localhost:8080/"
        }
      },
      "source": [
        "df = pd.read_csv('time_series_19-covid-Confirmed.csv')\n",
        "df.head()"
      ],
      "execution_count": 0,
      "outputs": [
        {
          "output_type": "execute_result",
          "data": {
            "text/html": [
              "<div>\n",
              "<style scoped>\n",
              "    .dataframe tbody tr th:only-of-type {\n",
              "        vertical-align: middle;\n",
              "    }\n",
              "\n",
              "    .dataframe tbody tr th {\n",
              "        vertical-align: top;\n",
              "    }\n",
              "\n",
              "    .dataframe thead th {\n",
              "        text-align: right;\n",
              "    }\n",
              "</style>\n",
              "<table border=\"1\" class=\"dataframe\">\n",
              "  <thead>\n",
              "    <tr style=\"text-align: right;\">\n",
              "      <th></th>\n",
              "      <th>Province/State</th>\n",
              "      <th>Country/Region</th>\n",
              "      <th>Lat</th>\n",
              "      <th>Long</th>\n",
              "      <th>1/22/20</th>\n",
              "      <th>1/23/20</th>\n",
              "      <th>1/24/20</th>\n",
              "      <th>1/25/20</th>\n",
              "      <th>1/26/20</th>\n",
              "      <th>1/27/20</th>\n",
              "      <th>1/28/20</th>\n",
              "      <th>1/29/20</th>\n",
              "      <th>1/30/20</th>\n",
              "      <th>1/31/20</th>\n",
              "      <th>2/1/20</th>\n",
              "      <th>2/2/20</th>\n",
              "      <th>2/3/20</th>\n",
              "      <th>2/4/20</th>\n",
              "      <th>2/5/20</th>\n",
              "      <th>2/6/20</th>\n",
              "      <th>2/7/20</th>\n",
              "      <th>2/8/20</th>\n",
              "      <th>2/9/20</th>\n",
              "      <th>2/10/20</th>\n",
              "      <th>2/11/20</th>\n",
              "      <th>2/12/20</th>\n",
              "      <th>2/13/20</th>\n",
              "      <th>2/14/20</th>\n",
              "      <th>2/15/20</th>\n",
              "      <th>2/16/20</th>\n",
              "      <th>2/17/20</th>\n",
              "      <th>2/18/20</th>\n",
              "      <th>2/19/20</th>\n",
              "      <th>2/20/20</th>\n",
              "      <th>2/21/20</th>\n",
              "      <th>2/22/20</th>\n",
              "      <th>2/23/20</th>\n",
              "      <th>2/24/20</th>\n",
              "      <th>2/25/20</th>\n",
              "      <th>2/26/20</th>\n",
              "      <th>2/27/20</th>\n",
              "      <th>2/28/20</th>\n",
              "      <th>2/29/20</th>\n",
              "      <th>3/1/20</th>\n",
              "      <th>3/2/20</th>\n",
              "    </tr>\n",
              "  </thead>\n",
              "  <tbody>\n",
              "    <tr>\n",
              "      <th>0</th>\n",
              "      <td>Anhui</td>\n",
              "      <td>Mainland China</td>\n",
              "      <td>31.8257</td>\n",
              "      <td>117.2264</td>\n",
              "      <td>1</td>\n",
              "      <td>9</td>\n",
              "      <td>15</td>\n",
              "      <td>39</td>\n",
              "      <td>60</td>\n",
              "      <td>70</td>\n",
              "      <td>106</td>\n",
              "      <td>152</td>\n",
              "      <td>200</td>\n",
              "      <td>237</td>\n",
              "      <td>297</td>\n",
              "      <td>340</td>\n",
              "      <td>408</td>\n",
              "      <td>480</td>\n",
              "      <td>530</td>\n",
              "      <td>591</td>\n",
              "      <td>665</td>\n",
              "      <td>733</td>\n",
              "      <td>779</td>\n",
              "      <td>830</td>\n",
              "      <td>860</td>\n",
              "      <td>889</td>\n",
              "      <td>910</td>\n",
              "      <td>934</td>\n",
              "      <td>950</td>\n",
              "      <td>962</td>\n",
              "      <td>973</td>\n",
              "      <td>982</td>\n",
              "      <td>986</td>\n",
              "      <td>987</td>\n",
              "      <td>988</td>\n",
              "      <td>989</td>\n",
              "      <td>989</td>\n",
              "      <td>989</td>\n",
              "      <td>989</td>\n",
              "      <td>989</td>\n",
              "      <td>989</td>\n",
              "      <td>990</td>\n",
              "      <td>990</td>\n",
              "      <td>990</td>\n",
              "      <td>990</td>\n",
              "    </tr>\n",
              "    <tr>\n",
              "      <th>1</th>\n",
              "      <td>Beijing</td>\n",
              "      <td>Mainland China</td>\n",
              "      <td>40.1824</td>\n",
              "      <td>116.4142</td>\n",
              "      <td>14</td>\n",
              "      <td>22</td>\n",
              "      <td>36</td>\n",
              "      <td>41</td>\n",
              "      <td>68</td>\n",
              "      <td>80</td>\n",
              "      <td>91</td>\n",
              "      <td>111</td>\n",
              "      <td>114</td>\n",
              "      <td>139</td>\n",
              "      <td>168</td>\n",
              "      <td>191</td>\n",
              "      <td>212</td>\n",
              "      <td>228</td>\n",
              "      <td>253</td>\n",
              "      <td>274</td>\n",
              "      <td>297</td>\n",
              "      <td>315</td>\n",
              "      <td>326</td>\n",
              "      <td>337</td>\n",
              "      <td>342</td>\n",
              "      <td>352</td>\n",
              "      <td>366</td>\n",
              "      <td>372</td>\n",
              "      <td>375</td>\n",
              "      <td>380</td>\n",
              "      <td>381</td>\n",
              "      <td>387</td>\n",
              "      <td>393</td>\n",
              "      <td>395</td>\n",
              "      <td>396</td>\n",
              "      <td>399</td>\n",
              "      <td>399</td>\n",
              "      <td>399</td>\n",
              "      <td>400</td>\n",
              "      <td>400</td>\n",
              "      <td>410</td>\n",
              "      <td>410</td>\n",
              "      <td>411</td>\n",
              "      <td>413</td>\n",
              "      <td>414</td>\n",
              "    </tr>\n",
              "    <tr>\n",
              "      <th>2</th>\n",
              "      <td>Chongqing</td>\n",
              "      <td>Mainland China</td>\n",
              "      <td>30.0572</td>\n",
              "      <td>107.8740</td>\n",
              "      <td>6</td>\n",
              "      <td>9</td>\n",
              "      <td>27</td>\n",
              "      <td>57</td>\n",
              "      <td>75</td>\n",
              "      <td>110</td>\n",
              "      <td>132</td>\n",
              "      <td>147</td>\n",
              "      <td>182</td>\n",
              "      <td>211</td>\n",
              "      <td>247</td>\n",
              "      <td>300</td>\n",
              "      <td>337</td>\n",
              "      <td>366</td>\n",
              "      <td>389</td>\n",
              "      <td>411</td>\n",
              "      <td>426</td>\n",
              "      <td>428</td>\n",
              "      <td>468</td>\n",
              "      <td>486</td>\n",
              "      <td>505</td>\n",
              "      <td>518</td>\n",
              "      <td>529</td>\n",
              "      <td>537</td>\n",
              "      <td>544</td>\n",
              "      <td>551</td>\n",
              "      <td>553</td>\n",
              "      <td>555</td>\n",
              "      <td>560</td>\n",
              "      <td>567</td>\n",
              "      <td>572</td>\n",
              "      <td>573</td>\n",
              "      <td>575</td>\n",
              "      <td>576</td>\n",
              "      <td>576</td>\n",
              "      <td>576</td>\n",
              "      <td>576</td>\n",
              "      <td>576</td>\n",
              "      <td>576</td>\n",
              "      <td>576</td>\n",
              "      <td>576</td>\n",
              "    </tr>\n",
              "    <tr>\n",
              "      <th>3</th>\n",
              "      <td>Fujian</td>\n",
              "      <td>Mainland China</td>\n",
              "      <td>26.0789</td>\n",
              "      <td>117.9874</td>\n",
              "      <td>1</td>\n",
              "      <td>5</td>\n",
              "      <td>10</td>\n",
              "      <td>18</td>\n",
              "      <td>35</td>\n",
              "      <td>59</td>\n",
              "      <td>80</td>\n",
              "      <td>84</td>\n",
              "      <td>101</td>\n",
              "      <td>120</td>\n",
              "      <td>144</td>\n",
              "      <td>159</td>\n",
              "      <td>179</td>\n",
              "      <td>194</td>\n",
              "      <td>205</td>\n",
              "      <td>215</td>\n",
              "      <td>224</td>\n",
              "      <td>239</td>\n",
              "      <td>250</td>\n",
              "      <td>261</td>\n",
              "      <td>267</td>\n",
              "      <td>272</td>\n",
              "      <td>279</td>\n",
              "      <td>281</td>\n",
              "      <td>285</td>\n",
              "      <td>287</td>\n",
              "      <td>290</td>\n",
              "      <td>292</td>\n",
              "      <td>293</td>\n",
              "      <td>293</td>\n",
              "      <td>293</td>\n",
              "      <td>293</td>\n",
              "      <td>293</td>\n",
              "      <td>293</td>\n",
              "      <td>294</td>\n",
              "      <td>294</td>\n",
              "      <td>296</td>\n",
              "      <td>296</td>\n",
              "      <td>296</td>\n",
              "      <td>296</td>\n",
              "      <td>296</td>\n",
              "    </tr>\n",
              "    <tr>\n",
              "      <th>4</th>\n",
              "      <td>Gansu</td>\n",
              "      <td>Mainland China</td>\n",
              "      <td>36.0611</td>\n",
              "      <td>103.8343</td>\n",
              "      <td>0</td>\n",
              "      <td>2</td>\n",
              "      <td>2</td>\n",
              "      <td>4</td>\n",
              "      <td>7</td>\n",
              "      <td>14</td>\n",
              "      <td>19</td>\n",
              "      <td>24</td>\n",
              "      <td>26</td>\n",
              "      <td>29</td>\n",
              "      <td>40</td>\n",
              "      <td>51</td>\n",
              "      <td>55</td>\n",
              "      <td>57</td>\n",
              "      <td>62</td>\n",
              "      <td>62</td>\n",
              "      <td>67</td>\n",
              "      <td>79</td>\n",
              "      <td>83</td>\n",
              "      <td>83</td>\n",
              "      <td>86</td>\n",
              "      <td>87</td>\n",
              "      <td>90</td>\n",
              "      <td>90</td>\n",
              "      <td>90</td>\n",
              "      <td>90</td>\n",
              "      <td>91</td>\n",
              "      <td>91</td>\n",
              "      <td>91</td>\n",
              "      <td>91</td>\n",
              "      <td>91</td>\n",
              "      <td>91</td>\n",
              "      <td>91</td>\n",
              "      <td>91</td>\n",
              "      <td>91</td>\n",
              "      <td>91</td>\n",
              "      <td>91</td>\n",
              "      <td>91</td>\n",
              "      <td>91</td>\n",
              "      <td>91</td>\n",
              "      <td>91</td>\n",
              "    </tr>\n",
              "  </tbody>\n",
              "</table>\n",
              "</div>"
            ],
            "text/plain": [
              "  Province/State  Country/Region      Lat  ...  2/29/20  3/1/20  3/2/20\n",
              "0          Anhui  Mainland China  31.8257  ...      990     990     990\n",
              "1        Beijing  Mainland China  40.1824  ...      411     413     414\n",
              "2      Chongqing  Mainland China  30.0572  ...      576     576     576\n",
              "3         Fujian  Mainland China  26.0789  ...      296     296     296\n",
              "4          Gansu  Mainland China  36.0611  ...       91      91      91\n",
              "\n",
              "[5 rows x 45 columns]"
            ]
          },
          "metadata": {
            "tags": []
          },
          "execution_count": 7
        }
      ]
    },
    {
      "cell_type": "markdown",
      "metadata": {
        "id": "639__gtacb-5",
        "colab_type": "text"
      },
      "source": [
        "Two things to note here:\n",
        "\n",
        "- The data contains a province, country, latitude, and longitude. We won't be needing those.\n",
        "- The number of cases is cumulative. We'll undo the accumulation.\n",
        "\n",
        "Let's start by getting rid of the first four columns:"
      ]
    },
    {
      "cell_type": "code",
      "metadata": {
        "id": "Lx2bxxJyWLdU",
        "colab_type": "code",
        "colab": {}
      },
      "source": [
        "df = df.iloc[:, 4:]"
      ],
      "execution_count": 0,
      "outputs": []
    },
    {
      "cell_type": "code",
      "metadata": {
        "id": "zYREMR00ZeUT",
        "colab_type": "code",
        "outputId": "dcae7b53-a359-472f-d186-8718f81f8eae",
        "colab": {
          "base_uri": "https://localhost:8080/"
        }
      },
      "source": [
        "df.head()"
      ],
      "execution_count": 0,
      "outputs": [
        {
          "output_type": "execute_result",
          "data": {
            "text/html": [
              "<div>\n",
              "<style scoped>\n",
              "    .dataframe tbody tr th:only-of-type {\n",
              "        vertical-align: middle;\n",
              "    }\n",
              "\n",
              "    .dataframe tbody tr th {\n",
              "        vertical-align: top;\n",
              "    }\n",
              "\n",
              "    .dataframe thead th {\n",
              "        text-align: right;\n",
              "    }\n",
              "</style>\n",
              "<table border=\"1\" class=\"dataframe\">\n",
              "  <thead>\n",
              "    <tr style=\"text-align: right;\">\n",
              "      <th></th>\n",
              "      <th>1/22/20</th>\n",
              "      <th>1/23/20</th>\n",
              "      <th>1/24/20</th>\n",
              "      <th>1/25/20</th>\n",
              "      <th>1/26/20</th>\n",
              "      <th>1/27/20</th>\n",
              "      <th>1/28/20</th>\n",
              "      <th>1/29/20</th>\n",
              "      <th>1/30/20</th>\n",
              "      <th>1/31/20</th>\n",
              "      <th>2/1/20</th>\n",
              "      <th>2/2/20</th>\n",
              "      <th>2/3/20</th>\n",
              "      <th>2/4/20</th>\n",
              "      <th>2/5/20</th>\n",
              "      <th>2/6/20</th>\n",
              "      <th>2/7/20</th>\n",
              "      <th>2/8/20</th>\n",
              "      <th>2/9/20</th>\n",
              "      <th>2/10/20</th>\n",
              "      <th>2/11/20</th>\n",
              "      <th>2/12/20</th>\n",
              "      <th>2/13/20</th>\n",
              "      <th>2/14/20</th>\n",
              "      <th>2/15/20</th>\n",
              "      <th>2/16/20</th>\n",
              "      <th>2/17/20</th>\n",
              "      <th>2/18/20</th>\n",
              "      <th>2/19/20</th>\n",
              "      <th>2/20/20</th>\n",
              "      <th>2/21/20</th>\n",
              "      <th>2/22/20</th>\n",
              "      <th>2/23/20</th>\n",
              "      <th>2/24/20</th>\n",
              "      <th>2/25/20</th>\n",
              "      <th>2/26/20</th>\n",
              "      <th>2/27/20</th>\n",
              "      <th>2/28/20</th>\n",
              "      <th>2/29/20</th>\n",
              "      <th>3/1/20</th>\n",
              "      <th>3/2/20</th>\n",
              "    </tr>\n",
              "  </thead>\n",
              "  <tbody>\n",
              "    <tr>\n",
              "      <th>0</th>\n",
              "      <td>1</td>\n",
              "      <td>9</td>\n",
              "      <td>15</td>\n",
              "      <td>39</td>\n",
              "      <td>60</td>\n",
              "      <td>70</td>\n",
              "      <td>106</td>\n",
              "      <td>152</td>\n",
              "      <td>200</td>\n",
              "      <td>237</td>\n",
              "      <td>297</td>\n",
              "      <td>340</td>\n",
              "      <td>408</td>\n",
              "      <td>480</td>\n",
              "      <td>530</td>\n",
              "      <td>591</td>\n",
              "      <td>665</td>\n",
              "      <td>733</td>\n",
              "      <td>779</td>\n",
              "      <td>830</td>\n",
              "      <td>860</td>\n",
              "      <td>889</td>\n",
              "      <td>910</td>\n",
              "      <td>934</td>\n",
              "      <td>950</td>\n",
              "      <td>962</td>\n",
              "      <td>973</td>\n",
              "      <td>982</td>\n",
              "      <td>986</td>\n",
              "      <td>987</td>\n",
              "      <td>988</td>\n",
              "      <td>989</td>\n",
              "      <td>989</td>\n",
              "      <td>989</td>\n",
              "      <td>989</td>\n",
              "      <td>989</td>\n",
              "      <td>989</td>\n",
              "      <td>990</td>\n",
              "      <td>990</td>\n",
              "      <td>990</td>\n",
              "      <td>990</td>\n",
              "    </tr>\n",
              "    <tr>\n",
              "      <th>1</th>\n",
              "      <td>14</td>\n",
              "      <td>22</td>\n",
              "      <td>36</td>\n",
              "      <td>41</td>\n",
              "      <td>68</td>\n",
              "      <td>80</td>\n",
              "      <td>91</td>\n",
              "      <td>111</td>\n",
              "      <td>114</td>\n",
              "      <td>139</td>\n",
              "      <td>168</td>\n",
              "      <td>191</td>\n",
              "      <td>212</td>\n",
              "      <td>228</td>\n",
              "      <td>253</td>\n",
              "      <td>274</td>\n",
              "      <td>297</td>\n",
              "      <td>315</td>\n",
              "      <td>326</td>\n",
              "      <td>337</td>\n",
              "      <td>342</td>\n",
              "      <td>352</td>\n",
              "      <td>366</td>\n",
              "      <td>372</td>\n",
              "      <td>375</td>\n",
              "      <td>380</td>\n",
              "      <td>381</td>\n",
              "      <td>387</td>\n",
              "      <td>393</td>\n",
              "      <td>395</td>\n",
              "      <td>396</td>\n",
              "      <td>399</td>\n",
              "      <td>399</td>\n",
              "      <td>399</td>\n",
              "      <td>400</td>\n",
              "      <td>400</td>\n",
              "      <td>410</td>\n",
              "      <td>410</td>\n",
              "      <td>411</td>\n",
              "      <td>413</td>\n",
              "      <td>414</td>\n",
              "    </tr>\n",
              "    <tr>\n",
              "      <th>2</th>\n",
              "      <td>6</td>\n",
              "      <td>9</td>\n",
              "      <td>27</td>\n",
              "      <td>57</td>\n",
              "      <td>75</td>\n",
              "      <td>110</td>\n",
              "      <td>132</td>\n",
              "      <td>147</td>\n",
              "      <td>182</td>\n",
              "      <td>211</td>\n",
              "      <td>247</td>\n",
              "      <td>300</td>\n",
              "      <td>337</td>\n",
              "      <td>366</td>\n",
              "      <td>389</td>\n",
              "      <td>411</td>\n",
              "      <td>426</td>\n",
              "      <td>428</td>\n",
              "      <td>468</td>\n",
              "      <td>486</td>\n",
              "      <td>505</td>\n",
              "      <td>518</td>\n",
              "      <td>529</td>\n",
              "      <td>537</td>\n",
              "      <td>544</td>\n",
              "      <td>551</td>\n",
              "      <td>553</td>\n",
              "      <td>555</td>\n",
              "      <td>560</td>\n",
              "      <td>567</td>\n",
              "      <td>572</td>\n",
              "      <td>573</td>\n",
              "      <td>575</td>\n",
              "      <td>576</td>\n",
              "      <td>576</td>\n",
              "      <td>576</td>\n",
              "      <td>576</td>\n",
              "      <td>576</td>\n",
              "      <td>576</td>\n",
              "      <td>576</td>\n",
              "      <td>576</td>\n",
              "    </tr>\n",
              "    <tr>\n",
              "      <th>3</th>\n",
              "      <td>1</td>\n",
              "      <td>5</td>\n",
              "      <td>10</td>\n",
              "      <td>18</td>\n",
              "      <td>35</td>\n",
              "      <td>59</td>\n",
              "      <td>80</td>\n",
              "      <td>84</td>\n",
              "      <td>101</td>\n",
              "      <td>120</td>\n",
              "      <td>144</td>\n",
              "      <td>159</td>\n",
              "      <td>179</td>\n",
              "      <td>194</td>\n",
              "      <td>205</td>\n",
              "      <td>215</td>\n",
              "      <td>224</td>\n",
              "      <td>239</td>\n",
              "      <td>250</td>\n",
              "      <td>261</td>\n",
              "      <td>267</td>\n",
              "      <td>272</td>\n",
              "      <td>279</td>\n",
              "      <td>281</td>\n",
              "      <td>285</td>\n",
              "      <td>287</td>\n",
              "      <td>290</td>\n",
              "      <td>292</td>\n",
              "      <td>293</td>\n",
              "      <td>293</td>\n",
              "      <td>293</td>\n",
              "      <td>293</td>\n",
              "      <td>293</td>\n",
              "      <td>293</td>\n",
              "      <td>294</td>\n",
              "      <td>294</td>\n",
              "      <td>296</td>\n",
              "      <td>296</td>\n",
              "      <td>296</td>\n",
              "      <td>296</td>\n",
              "      <td>296</td>\n",
              "    </tr>\n",
              "    <tr>\n",
              "      <th>4</th>\n",
              "      <td>0</td>\n",
              "      <td>2</td>\n",
              "      <td>2</td>\n",
              "      <td>4</td>\n",
              "      <td>7</td>\n",
              "      <td>14</td>\n",
              "      <td>19</td>\n",
              "      <td>24</td>\n",
              "      <td>26</td>\n",
              "      <td>29</td>\n",
              "      <td>40</td>\n",
              "      <td>51</td>\n",
              "      <td>55</td>\n",
              "      <td>57</td>\n",
              "      <td>62</td>\n",
              "      <td>62</td>\n",
              "      <td>67</td>\n",
              "      <td>79</td>\n",
              "      <td>83</td>\n",
              "      <td>83</td>\n",
              "      <td>86</td>\n",
              "      <td>87</td>\n",
              "      <td>90</td>\n",
              "      <td>90</td>\n",
              "      <td>90</td>\n",
              "      <td>90</td>\n",
              "      <td>91</td>\n",
              "      <td>91</td>\n",
              "      <td>91</td>\n",
              "      <td>91</td>\n",
              "      <td>91</td>\n",
              "      <td>91</td>\n",
              "      <td>91</td>\n",
              "      <td>91</td>\n",
              "      <td>91</td>\n",
              "      <td>91</td>\n",
              "      <td>91</td>\n",
              "      <td>91</td>\n",
              "      <td>91</td>\n",
              "      <td>91</td>\n",
              "      <td>91</td>\n",
              "    </tr>\n",
              "  </tbody>\n",
              "</table>\n",
              "</div>"
            ],
            "text/plain": [
              "   1/22/20  1/23/20  1/24/20  1/25/20  ...  2/28/20  2/29/20  3/1/20  3/2/20\n",
              "0        1        9       15       39  ...      990      990     990     990\n",
              "1       14       22       36       41  ...      410      411     413     414\n",
              "2        6        9       27       57  ...      576      576     576     576\n",
              "3        1        5       10       18  ...      296      296     296     296\n",
              "4        0        2        2        4  ...       91       91      91      91\n",
              "\n",
              "[5 rows x 41 columns]"
            ]
          },
          "metadata": {
            "tags": []
          },
          "execution_count": 9
        }
      ]
    },
    {
      "cell_type": "markdown",
      "metadata": {
        "id": "hdBlnURyXVgw",
        "colab_type": "text"
      },
      "source": [
        "Let's check for missing values:"
      ]
    },
    {
      "cell_type": "code",
      "metadata": {
        "id": "8yb8Ov_Ia5Se",
        "colab_type": "code",
        "outputId": "8bc86669-b20f-48c8-c249-1f08e792a26f",
        "colab": {
          "base_uri": "https://localhost:8080/"
        }
      },
      "source": [
        "df.isnull().sum().sum()"
      ],
      "execution_count": 0,
      "outputs": [
        {
          "output_type": "execute_result",
          "data": {
            "text/plain": [
              "0"
            ]
          },
          "metadata": {
            "tags": []
          },
          "execution_count": 10
        }
      ]
    },
    {
      "cell_type": "markdown",
      "metadata": {
        "id": "hqolOGG3cZcT",
        "colab_type": "text"
      },
      "source": [
        "Everything seems to be in place. Let's sum all rows, so we get the cumulative daily cases:"
      ]
    },
    {
      "cell_type": "code",
      "metadata": {
        "id": "DbVKPyMybITz",
        "colab_type": "code",
        "outputId": "de554434-a970-48d0-9f0b-45ca2d448fab",
        "colab": {
          "base_uri": "https://localhost:8080/"
        }
      },
      "source": [
        "daily_cases = df.sum(axis=0)\n",
        "daily_cases.index = pd.to_datetime(daily_cases.index)\n",
        "daily_cases.head()"
      ],
      "execution_count": 0,
      "outputs": [
        {
          "output_type": "execute_result",
          "data": {
            "text/plain": [
              "2020-01-22     555\n",
              "2020-01-23     653\n",
              "2020-01-24     941\n",
              "2020-01-25    1434\n",
              "2020-01-26    2118\n",
              "dtype: int64"
            ]
          },
          "metadata": {
            "tags": []
          },
          "execution_count": 11
        }
      ]
    },
    {
      "cell_type": "code",
      "metadata": {
        "id": "QyTmkP2OQLui",
        "colab_type": "code",
        "outputId": "e220296b-89e4-4a88-925f-0c480645e9de",
        "colab": {
          "base_uri": "https://localhost:8080/"
        }
      },
      "source": [
        "plt.plot(daily_cases)\n",
        "plt.title(\"Cumulative daily cases\");"
      ],
      "execution_count": 0,
      "outputs": [
        {
          "output_type": "display_data",
          "data": {
            "image/png": "[encoded data removed]",
            "text/plain": [
              "<Figure size 1008x720 with 1 Axes>"
            ]
          },
          "metadata": {
            "tags": [],
            "image/png": {
              "width": 846,
              "height": 597
            }
          }
        }
      ]
    },
    {
      "cell_type": "markdown",
      "metadata": {
        "id": "K4VmZuoyeAiZ",
        "colab_type": "text"
      },
      "source": [
        "We'll undo the accumulation by subtracting the current value from the previous. We'll preserve the first value of the sequence:"
      ]
    },
    {
      "cell_type": "code",
      "metadata": {
        "id": "Lb-6wPBYb1uG",
        "colab_type": "code",
        "outputId": "0a81035d-563b-4d4c-b923-f0cc88be339d",
        "colab": {
          "base_uri": "https://localhost:8080/"
        }
      },
      "source": [
        "daily_cases = daily_cases.diff().fillna(daily_cases[0]).astype(np.int64)\n",
        "daily_cases.head()"
      ],
      "execution_count": 0,
      "outputs": [
        {
          "output_type": "execute_result",
          "data": {
            "text/plain": [
              "2020-01-22    555\n",
              "2020-01-23     98\n",
              "2020-01-24    288\n",
              "2020-01-25    493\n",
              "2020-01-26    684\n",
              "dtype: int64"
            ]
          },
          "metadata": {
            "tags": []
          },
          "execution_count": 13
        }
      ]
    },
    {
      "cell_type": "code",
      "metadata": {
        "id": "KVXZ7tCsQvHX",
        "colab_type": "code",
        "outputId": "2f43f210-527a-4548-d3bc-cac94b9d96a2",
        "colab": {
          "base_uri": "https://localhost:8080/"
        }
      },
      "source": [
        "plt.plot(daily_cases)\n",
        "plt.title(\"Daily cases\");"
      ],
      "execution_count": 0,
      "outputs": [
        {
          "output_type": "display_data",
          "data": {
            "image/png": "[encoded data removed]",
            "text/plain": [
              "<Figure size 1008x720 with 1 Axes>"
            ]
          },
          "metadata": {
            "tags": [],
            "image/png": {
              "width": 846,
              "height": 597
            }
          }
        }
      ]
    },
    {
      "cell_type": "markdown",
      "metadata": {
        "id": "_KX1spUAgIcy",
        "colab_type": "text"
      },
      "source": [
        "The huge spike (in the middle) is mostly due to a change of criteria for testing patients in China. This will certainly be a challenge for our model.\n",
        "\n",
        "Let's check the amount of data we have:"
      ]
    },
    {
      "cell_type": "code",
      "metadata": {
        "id": "Ij7GhQKsN094",
        "colab_type": "code",
        "outputId": "8dda74f7-bc39-4c00-b6a8-6a996c0646d9",
        "colab": {
          "base_uri": "https://localhost:8080/"
        }
      },
      "source": [
        "daily_cases.shape"
      ],
      "execution_count": 0,
      "outputs": [
        {
          "output_type": "execute_result",
          "data": {
            "text/plain": [
              "(41,)"
            ]
          },
          "metadata": {
            "tags": []
          },
          "execution_count": 15
        }
      ]
    },
    {
      "cell_type": "markdown",
      "metadata": {
        "id": "qjFl0n8oki8I",
        "colab_type": "text"
      },
      "source": [
        "Unfortunately, we have data for only 41 days. Let's see what we can do with it!"
      ]
    },
    {
      "cell_type": "markdown",
      "metadata": {
        "id": "T4ONc718zaAW",
        "colab_type": "text"
      },
      "source": [
        "## Preprocessing\n",
        "\n",
        "We'll reserve the first 27 days for training and use the rest for testing:"
      ]
    },
    {
      "cell_type": "code",
      "metadata": {
        "id": "4xsvSUYFRwkk",
        "colab_type": "code",
        "outputId": "0b65e988-b696-4eb6-b43d-2a09b2cd65e9",
        "colab": {
          "base_uri": "https://localhost:8080/"
        }
      },
      "source": [
        "test_data_size = 14\n",
        "\n",
        "train_data = daily_cases[:-test_data_size]\n",
        "test_data = daily_cases[-test_data_size:]\n",
        "\n",
        "train_data.shape"
      ],
      "execution_count": 0,
      "outputs": [
        {
          "output_type": "execute_result",
          "data": {
            "text/plain": [
              "(27,)"
            ]
          },
          "metadata": {
            "tags": []
          },
          "execution_count": 16
        }
      ]
    },
    {
      "cell_type": "markdown",
      "metadata": {
        "id": "i8SRrEWSZujN",
        "colab_type": "text"
      },
      "source": [
        "We have to scale the data (values will be between 0 and 1) if we want to increase the training speed and performance of the model. We'll use the `MinMaxScaler` from scikit-learn:"
      ]
    },
    {
      "cell_type": "code",
      "metadata": {
        "id": "ZMKl_mSZUENB",
        "colab_type": "code",
        "colab": {}
      },
      "source": [
        "scaler = MinMaxScaler()\n",
        "\n",
        "scaler = scaler.fit(np.expand_dims(train_data, axis=1))\n",
        "\n",
        "train_data = scaler.transform(np.expand_dims(train_data, axis=1))\n",
        "\n",
        "test_data = scaler.transform(np.expand_dims(test_data, axis=1))"
      ],
      "execution_count": 0,
      "outputs": []
    },
    {
      "cell_type": "markdown",
      "metadata": {
        "id": "-KD-OgmQbdac",
        "colab_type": "text"
      },
      "source": [
        "Currently, we have a big sequence of daily cases. We'll convert it into smaller ones:"
      ]
    },
    {
      "cell_type": "code",
      "metadata": {
        "id": "tN7P8h-uHSKV",
        "colab_type": "code",
        "colab": {}
      },
      "source": [
        "def create_sequences(data, seq_length):\n",
        "    xs = []\n",
        "    ys = []\n",
        "\n",
        "    for i in range(len(data)-seq_length-1):\n",
        "        x = data[i:(i+seq_length)]\n",
        "        y = data[i+seq_length]\n",
        "        xs.append(x)\n",
        "        ys.append(y)\n",
        "\n",
        "    return np.array(xs), np.array(ys)"
      ],
      "execution_count": 0,
      "outputs": []
    },
    {
      "cell_type": "code",
      "metadata": {
        "id": "92DqpTj8IxDI",
        "colab_type": "code",
        "colab": {}
      },
      "source": [
        "seq_length = 5\n",
        "X_train, y_train = create_sequences(train_data, seq_length)\n",
        "X_test, y_test = create_sequences(test_data, seq_length)\n",
        "\n",
        "X_train = torch.from_numpy(X_train).float()\n",
        "y_train = torch.from_numpy(y_train).float()\n",
        "\n",
        "X_test = torch.from_numpy(X_test).float()\n",
        "y_test = torch.from_numpy(y_test).float()"
      ],
      "execution_count": 0,
      "outputs": []
    },
    {
      "cell_type": "markdown",
      "metadata": {
        "id": "EBN2MIinc2FN",
        "colab_type": "text"
      },
      "source": [
        "Each training example contains a sequence of 5 data points of history and a label for the real value that our model needs to predict. Let's dive in:"
      ]
    },
    {
      "cell_type": "code",
      "metadata": {
        "id": "5Db7NMt1haaw",
        "colab_type": "code",
        "outputId": "634d6451-a123-48f7-db9d-00c53b3dd05b",
        "colab": {
          "base_uri": "https://localhost:8080/"
        }
      },
      "source": [
        "X_train.shape"
      ],
      "execution_count": 0,
      "outputs": [
        {
          "output_type": "execute_result",
          "data": {
            "text/plain": [
              "torch.Size([21, 5, 1])"
            ]
          },
          "metadata": {
            "tags": []
          },
          "execution_count": 20
        }
      ]
    },
    {
      "cell_type": "code",
      "metadata": {
        "id": "nouTrj7Vhd3i",
        "colab_type": "code",
        "outputId": "2852a023-5f09-465e-edac-3d5baeb3fefe",
        "colab": {
          "base_uri": "https://localhost:8080/"
        }
      },
      "source": [
        "X_train[:2]"
      ],
      "execution_count": 0,
      "outputs": [
        {
          "output_type": "execute_result",
          "data": {
            "text/plain": [
              "tensor([[[0.0304],\n",
              "         [0.0000],\n",
              "         [0.0126],\n",
              "         [0.0262],\n",
              "         [0.0389]],\n",
              "\n",
              "        [[0.0000],\n",
              "         [0.0126],\n",
              "         [0.0262],\n",
              "         [0.0389],\n",
              "         [0.0472]]])"
            ]
          },
          "metadata": {
            "tags": []
          },
          "execution_count": 21
        }
      ]
    },
    {
      "cell_type": "code",
      "metadata": {
        "id": "eSi-I0L1hiDB",
        "colab_type": "code",
        "outputId": "85fc55c2-0a84-4a29-f9f1-dc395f758013",
        "colab": {
          "base_uri": "https://localhost:8080/"
        }
      },
      "source": [
        "y_train.shape"
      ],
      "execution_count": 0,
      "outputs": [
        {
          "output_type": "execute_result",
          "data": {
            "text/plain": [
              "torch.Size([21, 1])"
            ]
          },
          "metadata": {
            "tags": []
          },
          "execution_count": 22
        }
      ]
    },
    {
      "cell_type": "code",
      "metadata": {
        "id": "-fDsqZD6hjF8",
        "colab_type": "code",
        "outputId": "077bef09-95b3-4a31-d455-e3c0d4ded2a8",
        "colab": {
          "base_uri": "https://localhost:8080/"
        }
      },
      "source": [
        "y_train[:2]"
      ],
      "execution_count": 0,
      "outputs": [
        {
          "output_type": "execute_result",
          "data": {
            "text/plain": [
              "tensor([[0.0472],\n",
              "        [0.1696]])"
            ]
          },
          "metadata": {
            "tags": []
          },
          "execution_count": 23
        }
      ]
    },
    {
      "cell_type": "code",
      "metadata": {
        "id": "QcrktghWhj_I",
        "colab_type": "code",
        "outputId": "22594361-b8d4-40f7-d8b2-db00a9728d05",
        "colab": {
          "base_uri": "https://localhost:8080/"
        }
      },
      "source": [
        "train_data[:10]"
      ],
      "execution_count": 0,
      "outputs": [
        {
          "output_type": "execute_result",
          "data": {
            "text/plain": [
              "array([[0.03036545],\n",
              "       [0.        ],\n",
              "       [0.01262458],\n",
              "       [0.02624585],\n",
              "       [0.03893688],\n",
              "       [0.04724252],\n",
              "       [0.16963455],\n",
              "       [0.03255814],\n",
              "       [0.13089701],\n",
              "       [0.10598007]])"
            ]
          },
          "metadata": {
            "tags": []
          },
          "execution_count": 24
        }
      ]
    },
    {
      "cell_type": "markdown",
      "metadata": {
        "id": "egnpqcZwP59F",
        "colab_type": "text"
      },
      "source": [
        "## Building a model\n",
        "\n",
        "We'll encapsulate the complexity of our model into a class that extends from `torch.nn.Module`:"
      ]
    },
    {
      "cell_type": "code",
      "metadata": {
        "id": "vS1uFo4-qVT2",
        "colab_type": "code",
        "colab": {}
      },
      "source": [
        "class CoronaVirusPredictor(nn.Module):\n",
        "\n",
        "  def __init__(self, n_features, n_hidden, seq_len, n_layers=2):\n",
        "    super(CoronaVirusPredictor, self).__init__()\n",
        "\n",
        "    self.n_hidden = n_hidden\n",
        "    self.seq_len = seq_len\n",
        "    self.n_layers = n_layers\n",
        "\n",
        "    self.lstm = nn.LSTM(\n",
        "      input_size=n_features,\n",
        "      hidden_size=n_hidden,\n",
        "      num_layers=n_layers,\n",
        "      dropout=0.5\n",
        "    )\n",
        "\n",
        "    self.linear = nn.Linear(in_features=n_hidden, out_features=1)\n",
        "\n",
        "  def reset_hidden_state(self):\n",
        "    self.hidden = (\n",
        "        torch.zeros(self.n_layers, self.seq_len, self.n_hidden),\n",
        "        torch.zeros(self.n_layers, self.seq_len, self.n_hidden)\n",
        "    )\n",
        "\n",
        "  def forward(self, sequences):\n",
        "    lstm_out, self.hidden = self.lstm(\n",
        "      sequences.view(len(sequences), self.seq_len, -1),\n",
        "      self.hidden\n",
        "    )\n",
        "    last_time_step = \\\n",
        "      lstm_out.view(self.seq_len, len(sequences), self.n_hidden)[-1]\n",
        "    y_pred = self.linear(last_time_step)\n",
        "    return y_pred"
      ],
      "execution_count": 0,
      "outputs": []
    },
    {
      "cell_type": "markdown",
      "metadata": {
        "id": "xljmrTGUfduG",
        "colab_type": "text"
      },
      "source": [
        "Our `CoronaVirusPredictor` contains 3 methods:\n",
        "- constructor - initialize all helper data and create the layers\n",
        "- `reset_hidden_state` - we'll use a stateless LSTM, so we need to reset the state after each example\n",
        "- `forward` - get the sequences, pass all of them through the LSTM layer, at once. We take the output of the last time step and pass it through our linear layer to get the prediction."
      ]
    },
    {
      "cell_type": "markdown",
      "metadata": {
        "id": "FuggK-kC9BMQ",
        "colab_type": "text"
      },
      "source": [
        "## Training\n",
        "\n",
        "Let's build a helper function for the training of our model (we'll reuse it later):"
      ]
    },
    {
      "cell_type": "code",
      "metadata": {
        "id": "vsuBhEJ1fLnM",
        "colab_type": "code",
        "colab": {}
      },
      "source": [
        "def train_model(\n",
        "  model, \n",
        "  train_data, \n",
        "  train_labels, \n",
        "  test_data=None, \n",
        "  test_labels=None\n",
        "):\n",
        "  loss_fn = torch.nn.MSELoss(reduction='sum')\n",
        "\n",
        "  optimiser = torch.optim.Adam(model.parameters(), lr=1e-3)\n",
        "  num_epochs = 60\n",
        "\n",
        "  train_hist = np.zeros(num_epochs)\n",
        "  test_hist = np.zeros(num_epochs)\n",
        "\n",
        "  for t in range(num_epochs):\n",
        "    model.reset_hidden_state()\n",
        "\n",
        "    y_pred = model(X_train)\n",
        "\n",
        "    loss = loss_fn(y_pred.float(), y_train)\n",
        "\n",
        "    if test_data is not None:\n",
        "      with torch.no_grad():\n",
        "        y_test_pred = model(X_test)\n",
        "        test_loss = loss_fn(y_test_pred.float(), y_test)\n",
        "      test_hist[t] = test_loss.item()\n",
        "\n",
        "      if t % 10 == 0:  \n",
        "        print(f'Epoch {t} train loss: {loss.item()} test loss: {test_loss.item()}')\n",
        "    elif t % 10 == 0:\n",
        "      print(f'Epoch {t} train loss: {loss.item()}')\n",
        "\n",
        "    train_hist[t] = loss.item()\n",
        "    \n",
        "    optimiser.zero_grad()\n",
        "\n",
        "    loss.backward()\n",
        "\n",
        "    optimiser.step()\n",
        "  \n",
        "  return model.eval(), train_hist, test_hist"
      ],
      "execution_count": 0,
      "outputs": []
    },
    {
      "cell_type": "markdown",
      "metadata": {
        "id": "tBWwvJ8umKyw",
        "colab_type": "text"
      },
      "source": [
        "Note that the hidden state is reset at the start of each epoch. We don't use batches of data our model sees every example at once. We'll use mean squared error to measure our training and test error. We'll record both. \n",
        "\n",
        "Let's create an instance of our model and train it:"
      ]
    },
    {
      "cell_type": "code",
      "metadata": {
        "id": "6f_ebtcBqaoK",
        "colab_type": "code",
        "outputId": "aace9975-8d91-4d2a-9e7c-82325c87e614",
        "colab": {
          "base_uri": "https://localhost:8080/"
        }
      },
      "source": [
        "model = CoronaVirusPredictor(\n",
        "  n_features=1, \n",
        "  n_hidden=512, \n",
        "  seq_len=seq_length, \n",
        "  n_layers=2\n",
        ")\n",
        "model, train_hist, test_hist = train_model(\n",
        "  model, \n",
        "  X_train, \n",
        "  y_train, \n",
        "  X_test, \n",
        "  y_test\n",
        ")"
      ],
      "execution_count": 0,
      "outputs": [
        {
          "output_type": "stream",
          "text": [
            "Epoch 0 train loss: 1.6297188997268677 test loss: 0.041186608374118805\n",
            "Epoch 10 train loss: 0.8466923832893372 test loss: 0.12416432797908783\n",
            "Epoch 20 train loss: 0.8219934105873108 test loss: 0.1438201516866684\n",
            "Epoch 30 train loss: 0.8200693726539612 test loss: 0.2190694659948349\n",
            "Epoch 40 train loss: 0.810839056968689 test loss: 0.1797715127468109\n",
            "Epoch 50 train loss: 0.795730471611023 test loss: 0.19855864346027374\n"
          ],
          "name": "stdout"
        }
      ]
    },
    {
      "cell_type": "markdown",
      "metadata": {
        "id": "cL-9E4wLmnzR",
        "colab_type": "text"
      },
      "source": [
        "Let's have a look at the train and test loss:"
      ]
    },
    {
      "cell_type": "code",
      "metadata": {
        "id": "gkqy6CNh9AqC",
        "colab_type": "code",
        "colab": {}
      },
      "source": [
        "plt.plot(train_hist, label=\"Training loss\")\n",
        "plt.plot(test_hist, label=\"Test loss\")\n",
        "plt.ylim((0, 5))\n",
        "plt.legend();"
      ],
      "execution_count": 0,
      "outputs": []
    },
    {
      "cell_type": "markdown",
      "metadata": {
        "id": "_pKZ7Js8m60H",
        "colab_type": "text"
      },
      "source": [
        "Our model's performance doesn't improve after 15 epochs or so. Recall that we have very little data. Maybe we shouldn't trust our model that much?"
      ]
    },
    {
      "cell_type": "markdown",
      "metadata": {
        "id": "Weyp3LRBGEvv",
        "colab_type": "text"
      },
      "source": [
        "## Predicting daily cases\n",
        "\n",
        "Our model can (due to the way we've trained it) predict only a single day in the future. We'll employ a simple strategy to overcome this limitation. Use predicted values as input for predicting the next days:"
      ]
    },
    {
      "cell_type": "code",
      "metadata": {
        "id": "6RTIMgBZ_hG_",
        "colab_type": "code",
        "colab": {}
      },
      "source": [
        "with torch.no_grad():\n",
        "  test_seq = X_test[:1]\n",
        "  preds = []\n",
        "  for _ in range(len(X_test)):\n",
        "    y_test_pred = model(test_seq)\n",
        "    pred = torch.flatten(y_test_pred).item()\n",
        "    preds.append(pred)\n",
        "    new_seq = test_seq.numpy().flatten()\n",
        "    new_seq = np.append(new_seq, [pred])\n",
        "    new_seq = new_seq[1:]\n",
        "    test_seq = torch.as_tensor(new_seq).view(1, seq_length, 1).float()"
      ],
      "execution_count": 0,
      "outputs": []
    },
    {
      "cell_type": "markdown",
      "metadata": {
        "id": "YBn9VijrubKS",
        "colab_type": "text"
      },
      "source": [
        "We have to reverse the scaling of the test data and the model predictions:"
      ]
    },
    {
      "cell_type": "code",
      "metadata": {
        "id": "iPJMdlBEErg3",
        "colab_type": "code",
        "colab": {}
      },
      "source": [
        "true_cases = scaler.inverse_transform(\n",
        "    np.expand_dims(y_test.flatten().numpy(), axis=0)\n",
        ").flatten()\n",
        "\n",
        "predicted_cases = scaler.inverse_transform(\n",
        "  np.expand_dims(preds, axis=0)\n",
        ").flatten()"
      ],
      "execution_count": 0,
      "outputs": []
    },
    {
      "cell_type": "markdown",
      "metadata": {
        "id": "bIaUwP2gue1I",
        "colab_type": "text"
      },
      "source": [
        "Let's look at the results:"
      ]
    },
    {
      "cell_type": "code",
      "metadata": {
        "id": "L_2LezBrE8VF",
        "colab_type": "code",
        "colab": {}
      },
      "source": [
        "plt.plot(\n",
        "  daily_cases.index[:len(train_data)], \n",
        "  scaler.inverse_transform(train_data).flatten(),\n",
        "  label='Historical Daily Cases'\n",
        ")\n",
        "\n",
        "plt.plot(\n",
        "  daily_cases.index[len(train_data):len(train_data) + len(true_cases)], \n",
        "  true_cases,\n",
        "  label='Real Daily Cases'\n",
        ")\n",
        "\n",
        "plt.plot(\n",
        "  daily_cases.index[len(train_data):len(train_data) + len(true_cases)], \n",
        "  predicted_cases, \n",
        "  label='Predicted Daily Cases'\n",
        ")\n",
        "\n",
        "plt.legend();"
      ],
      "execution_count": 0,
      "outputs": []
    },
    {
      "cell_type": "markdown",
      "metadata": {
        "id": "dVXs97Onu9VV",
        "colab_type": "text"
      },
      "source": [
        "As expected, our model doesn't perform very well. That said, the predictions seem to be in the right ballpark (probably due to using the last data point as a strong predictor for the next)."
      ]
    },
    {
      "cell_type": "markdown",
      "metadata": {
        "id": "cmX5Cq_aGA2s",
        "colab_type": "text"
      },
      "source": [
        "## Use all data for training\n",
        "\n",
        "Now, we'll use all available data to train the same model:"
      ]
    },
    {
      "cell_type": "code",
      "metadata": {
        "id": "WbKlhXMuGhco",
        "colab_type": "code",
        "colab": {}
      },
      "source": [
        "scaler = MinMaxScaler()\n",
        "\n",
        "scaler = scaler.fit(np.expand_dims(daily_cases, axis=1))\n",
        "\n",
        "all_data = scaler.transform(np.expand_dims(daily_cases, axis=1))\n",
        "\n",
        "all_data.shape"
      ],
      "execution_count": 0,
      "outputs": []
    },
    {
      "cell_type": "markdown",
      "metadata": {
        "id": "9QzF2RC4YIA6",
        "colab_type": "text"
      },
      "source": [
        "The preprocessing and training steps are the same:"
      ]
    },
    {
      "cell_type": "code",
      "metadata": {
        "id": "toqibTKDGzzm",
        "colab_type": "code",
        "colab": {}
      },
      "source": [
        "X_all, y_all = create_sequences(all_data, seq_length)\n",
        "\n",
        "X_all = torch.from_numpy(X_all).float()\n",
        "y_all = torch.from_numpy(y_all).float()\n",
        "\n",
        "model = CoronaVirusPredictor(\n",
        "  n_features=1, \n",
        "  n_hidden=512, \n",
        "  seq_len=seq_length, \n",
        "  n_layers=2\n",
        ")\n",
        "model, train_hist, _ = train_model(model, X_all, y_all)"
      ],
      "execution_count": 0,
      "outputs": []
    },
    {
      "cell_type": "markdown",
      "metadata": {
        "id": "Uw4JkktB9ceM",
        "colab_type": "text"
      },
      "source": [
        "## Predicting future cases\n",
        "\n",
        "We'll use our \"fully trained\" model to predict the confirmed cases for 12 days into the future:"
      ]
    },
    {
      "cell_type": "code",
      "metadata": {
        "id": "JBEHtvM9HbCi",
        "colab_type": "code",
        "colab": {}
      },
      "source": [
        "DAYS_TO_PREDICT = 12\n",
        "\n",
        "with torch.no_grad():\n",
        "  test_seq = X_all[:1]\n",
        "  preds = []\n",
        "  for _ in range(DAYS_TO_PREDICT):\n",
        "    y_test_pred = model(test_seq)\n",
        "    pred = torch.flatten(y_test_pred).item()\n",
        "    preds.append(pred)\n",
        "    new_seq = test_seq.numpy().flatten()\n",
        "    new_seq = np.append(new_seq, [pred])\n",
        "    new_seq = new_seq[1:]\n",
        "    test_seq = torch.as_tensor(new_seq).view(1, seq_length, 1).float()"
      ],
      "execution_count": 0,
      "outputs": []
    },
    {
      "cell_type": "markdown",
      "metadata": {
        "id": "CPO4SgsFZqS7",
        "colab_type": "text"
      },
      "source": [
        "As before, we'll inverse the scaler transformation:"
      ]
    },
    {
      "cell_type": "code",
      "metadata": {
        "id": "Hq7oUHf7H8nU",
        "colab_type": "code",
        "colab": {}
      },
      "source": [
        "predicted_cases = scaler.inverse_transform(\n",
        "  np.expand_dims(preds, axis=0)\n",
        ").flatten()"
      ],
      "execution_count": 0,
      "outputs": []
    },
    {
      "cell_type": "markdown",
      "metadata": {
        "id": "WEXs4wOPayG2",
        "colab_type": "text"
      },
      "source": [
        "To create a cool chart with the historical and predicted cases, we need to extend the date index of our data frame:"
      ]
    },
    {
      "cell_type": "code",
      "metadata": {
        "id": "0Dz4tBTeEb7r",
        "colab_type": "code",
        "colab": {}
      },
      "source": [
        "daily_cases.index[-1]"
      ],
      "execution_count": 0,
      "outputs": []
    },
    {
      "cell_type": "code",
      "metadata": {
        "id": "ZwQxZz3BDrlI",
        "colab_type": "code",
        "colab": {}
      },
      "source": [
        "predicted_index = pd.date_range(\n",
        "  start=daily_cases.index[-1],\n",
        "  periods=DAYS_TO_PREDICT + 1,\n",
        "  closed='right'\n",
        ")\n",
        "\n",
        "predicted_cases = pd.Series(\n",
        "  data=predicted_cases,\n",
        "  index=predicted_index\n",
        ")\n",
        "\n",
        "plt.plot(predicted_cases, label='Predicted Daily Cases')\n",
        "plt.legend();"
      ],
      "execution_count": 0,
      "outputs": []
    },
    {
      "cell_type": "markdown",
      "metadata": {
        "id": "qBK71BNma8ec",
        "colab_type": "text"
      },
      "source": [
        "Now we can use all the data to plot the results:"
      ]
    },
    {
      "cell_type": "code",
      "metadata": {
        "id": "XyBC8y5FFBVX",
        "colab_type": "code",
        "colab": {}
      },
      "source": [
        "plt.plot(daily_cases, label='Historical Daily Cases')\n",
        "plt.plot(predicted_cases, label='Predicted Daily Cases')\n",
        "plt.legend();"
      ],
      "execution_count": 0,
      "outputs": []
    },
    {
      "cell_type": "markdown",
      "metadata": {
        "id": "p6IgK4dTbhQL",
        "colab_type": "text"
      },
      "source": [
        "Our model thinks that things will level off. Note that the more you go into the future, the more you shouldn't trust your model predictions."
      ]
    },
    {
      "cell_type": "markdown",
      "metadata": {
        "id": "tVUVqYlPbh63",
        "colab_type": "text"
      },
      "source": [
        "## Conclusion\n",
        "\n",
        "Well done! You learned how to use PyTorch to create a Recurrent Neural Network that works with Time Series data. The model performance is not that great, but this is expected, given the small amounts of data.\n",
        "\n",
        "- [Run the complete notebook in your browser (Google Colab)](https://colab.research.google.com/drive/1nQYJq1f7f4R0yeZOzQ9rBKgk00AfLoS0)\n",
        "- [Read the Getting Things Done with Pytorch book](https://github.com/curiousily/Getting-Things-Done-with-Pytorch)\n",
        "\n",
        "The problem of predicting daily Covid-19 cases is a hard one. We're amidst an outbreak, and there's more to be done. Hopefully, everything will be back to normal after some time."
      ]
    },
    {
      "cell_type": "markdown",
      "metadata": {
        "id": "Ycqlac8X-9q-",
        "colab_type": "text"
      },
      "source": [
        "## References\n",
        "\n",
        "- [Sequence Models PyTorch Tutorial](https://pytorch.org/tutorials/beginner/nlp/sequence_models_tutorial.html)\n",
        "- [LSTM for time series prediction](https://towardsdatascience.com/lstm-for-time-series-prediction-de8aeb26f2ca)\n",
        "- [Time Series Prediction using LSTM with PyTorch in Python](https://stackabuse.com/time-series-prediction-using-lstm-with-pytorch-in-python/)\n",
        "- [Stateful LSTM in Keras](https://philipperemy.github.io/keras-stateful-lstm/)\n",
        "- [LSTMs for Time Series in PyTorch](https://www.jessicayung.com/lstms-for-time-series-in-pytorch/)\n",
        "- [Novel Coronavirus (COVID-19) Cases, provided by JHU CSSE](https://github.com/CSSEGISandData/COVID-19)\n",
        "- [covid-19-analysis](https://github.com/AaronWard/covid-19-analysis)\n",
        "- [How does Coronavirus compare to Ebola, SARS, etc?](https://www.youtube.com/watch?v=6dDD2tHWWnU)\n",
        "- [Worldometer COVID-19 Coronavirus Outbreak](https://www.worldometers.info/coronavirus/)\n",
        "- [How contagious is the Wuhan Coronavirus? (Ro)](https://www.worldometers.info/coronavirus/#repro)\n",
        "- [Systemic Risk of Pandemic via Novel Pathogens - Coronavirus: A Note](https://www.academia.edu/41743064/Systemic_Risk_of_Pandemic_via_Novel_Pathogens_-_Coronavirus_A_Note)\n",
        "- [Statistical Consequences of Fat Tails: Real World Preasymptotics, Epistemology, and Applications](https://www.researchers.one/article/2020-01-21)\n"
      ]
    }
  ]
}